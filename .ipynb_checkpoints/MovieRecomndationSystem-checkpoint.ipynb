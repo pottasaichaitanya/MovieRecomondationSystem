{
 "cells": [
  {
   "cell_type": "code",
   "execution_count": 2,
   "id": "00ab0a23-6960-40a1-883d-b45531483252",
   "metadata": {},
   "outputs": [],
   "source": [
    "import numpy as np\n",
    "import pandas as pd"
   ]
  },
  {
   "cell_type": "code",
   "execution_count": null,
   "id": "8bb2bba0-10ea-4617-b3f0-d1df5ed4c6cc",
   "metadata": {},
   "outputs": [],
   "source": [
    "pd.raed_csv('"
   ]
  }
 ],
 "metadata": {
  "kernelspec": {
   "display_name": "Python 3 (ipykernel)",
   "language": "python",
   "name": "python3"
  },
  "language_info": {
   "codemirror_mode": {
    "name": "ipython",
    "version": 3
   },
   "file_extension": ".py",
   "mimetype": "text/x-python",
   "name": "python",
   "nbconvert_exporter": "python",
   "pygments_lexer": "ipython3",
   "version": "3.11.7"
  }
 },
 "nbformat": 4,
 "nbformat_minor": 5
}
